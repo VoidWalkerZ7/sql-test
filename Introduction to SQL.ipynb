{
  "metadata": {
    "kernelspec": {
      "name": "SQLite",
      "display_name": "SQLite",
      "language": "sql"
    },
    "language_info": {
      "codemirror_mode": "sql",
      "file_extension": "",
      "mimetype": "",
      "name": "sql",
      "version": "3.32.3"
    }
  },
  "nbformat_minor": 4,
  "nbformat": 4,
  "cells": [
    {
      "cell_type": "markdown",
      "source": "# **Objectives**\r- **Introduction to SQL**\n- **Hands-on**\n    - [SELECT statements]\n    - [Working with dates]\n    - [Using JOIN]\n        - [INNER JOIN]\n        - [OUTER JOIN]",
      "metadata": {
        "tags": [],
        "editable": true,
        "slideshow": {
          "slide_type": ""
        }
      }
    },
    {
      "cell_type": "markdown",
      "source": "## **Using Chat GPT-4 (or GPT-3.5) as a coding tutor when learning this workshop on your own.**\n\nThere are several ways that GPT can help improve your self-learning process. ChatGPT can be used as a coding tutor to help:\n- Explain new concepts in other words. Ask it to give basic, intermediate, or advanced explanations of coding concepts depending on your familiarity and comfort level.\n- Guide you through the exercises and explain the logic and code. If you get stuck with the exercises, you can ask GPT to give you a step-by-step guide to the exercise so you better understand the learning objectives. For best results, be very specific with ChatGPT so it has the necessary context to best help you.\n- Give you more exercises. If you aren't sure you understand a concept and want to test your knowledge, ask ChatGPT to give additional exercises to help test your abilities and understanding. They can be coding problems, multiple choice, fill in the blank, or whatever will work best for your learning style. Be creative and get the support you want.\nThe AI has infinite patience,so aska s many questions as you want!\n\n### **The Fruit Emoji**\n\nAs you gothrough this workshop, you will notice **Fruit Emojis** embedded throughout. They accompany bolded terms that are the fundemental concepts that SQL programming is built upon. The key thing here is **if you see an emoji, consider asking ChatGPT about the bolded concept**. FOr fun, we have gamifies this by thinking of the emojis as fruits you can collect while going through the 'Introduction to SQL' garden.\n\n- To collect all the fruits, you should follow the workshop section by section and add your found fruit (new coding concept) to the end of the following prompt and take it to ChatGPT:\n  \n  `You are going to take on the role of an excellent python coding tutor. I'm a beginner learning to program in python. In simple terms, please give me an overview and explanation of the following concept:`\n\n- You can add more surrounding components to the prompts to make it more clear. For example, maybe you know another language and want ChatGPT to compare how the concept works in R or C++ to help you better understand.\n\n### Disclaimer\n\n\"ChatGPT may produce inaccurate information about people, places, or facts.\" -OpenAI\n\n- Outputs may be inaccurate, untruthful, and otherwise misleading.\n- ChatGPT is not connected to the internet. (although this feature is now available with ChatGPT Plus as a beta feature)\n- It has limited knowledge of world and events after September 2021.\n- It may produce biased content.\n- It will not cite sources.\n  \nAlways use caution when interacting with LLM AI systems. Despite the large bounds in progress and capability, they are still in early versions and teams of people are working to fix short comings and mistakes each and every day. Despite how useful they can be as coding tutors, it is important to remember that their outputs should be met with a healthy amount of skepticism.thy amount of skepticism.",
      "metadata": {
        "tags": [],
        "editable": true,
        "slideshow": {
          "slide_type": ""
        }
      }
    },
    {
      "cell_type": "markdown",
      "source": "",
      "metadata": {}
    },
    {
      "cell_type": "code",
      "source": "",
      "metadata": {
        "trusted": true
      },
      "outputs": [
        {
          "ename": "Error",
          "evalue": "Load a database to run this command.",
          "traceback": [
            "Error: Load a database to run this command."
          ],
          "output_type": "error"
        }
      ],
      "execution_count": 1
    },
    {
      "cell_type": "markdown",
      "source": "**Retrieving Data with SELECT Statement**\n1. Using SELECT statement to select data from the database. Where '*' denotes All",
      "metadata": {}
    },
    {
      "cell_type": "code",
      "source": "SELECT * from CUSTOMER",
      "metadata": {
        "trusted": true
      },
      "outputs": [
        {
          "ename": "Error",
          "evalue": "Please load a database to perform operations",
          "traceback": [
            "Error: Please load a database to perform operations"
          ],
          "output_type": "error"
        }
      ],
      "execution_count": 2
    },
    {
      "cell_type": "markdown",
      "source": "2. Using LIMIT clause to view a limited number of rows",
      "metadata": {}
    },
    {
      "cell_type": "code",
      "source": "SELECT * from CUSTOMER LIMIT 3",
      "metadata": {
        "trusted": true
      },
      "outputs": [
        {
          "ename": "Error",
          "evalue": "Please load a database to perform operations",
          "traceback": [
            "Error: Please load a database to perform operations"
          ],
          "output_type": "error"
        }
      ],
      "execution_count": 3
    },
    {
      "cell_type": "markdown",
      "source": "3. Retrieving specific columns from the table CUSTOMER by giving their name",
      "metadata": {}
    },
    {
      "cell_type": "code",
      "source": "SELECT CUSTOMER_ID, NAME from CUSTOMER",
      "metadata": {
        "trusted": true
      },
      "outputs": [],
      "execution_count": null
    },
    {
      "cell_type": "markdown",
      "source": "4. Exploring a different table in the database",
      "metadata": {}
    },
    {
      "cell_type": "code",
      "source": "SELECT * from PRODUCT",
      "metadata": {
        "trusted": true
      },
      "outputs": [],
      "execution_count": null
    },
    {
      "cell_type": "markdown",
      "source": "5. Adding a new column by modifying the existing column",
      "metadata": {}
    },
    {
      "cell_type": "code",
      "source": "SELECT PRODUCT_ID,\nDESCRIPTION,\nPRICE,\nPRICE * 1.25 AS TAXED_PRICE\nFROM PRODUCT",
      "metadata": {
        "trusted": true
      },
      "outputs": [],
      "execution_count": null
    },
    {
      "cell_type": "markdown",
      "source": "6. Using the Round function here to decrease the number of decimals in the column",
      "metadata": {}
    },
    {
      "cell_type": "code",
      "source": "SELECT PRODUCT_ID,\nDESCRIPTION,\nPRICE,\nround(PRICE * 1.25) AS TAXED_PRICE\nFROM PRODUCT",
      "metadata": {
        "trusted": true
      },
      "outputs": [],
      "execution_count": null
    },
    {
      "cell_type": "markdown",
      "source": "**Working with Dates and Times**\n1. Finding the Date now",
      "metadata": {}
    },
    {
      "cell_type": "code",
      "source": "SELECT DATE('now')",
      "metadata": {
        "trusted": true
      },
      "outputs": [],
      "execution_count": null
    },
    {
      "cell_type": "markdown",
      "source": "2. Finding the Date yesterday",
      "metadata": {}
    },
    {
      "cell_type": "code",
      "source": "SELECT DATE('now', '-1 day')",
      "metadata": {
        "trusted": true
      },
      "outputs": [],
      "execution_count": null
    },
    {
      "cell_type": "markdown",
      "source": "3. Finding the Date in Past from now",
      "metadata": {}
    },
    {
      "cell_type": "code",
      "source": "SELECT DATE('now','+3 month', '-1 day')",
      "metadata": {
        "trusted": true
      },
      "outputs": [],
      "execution_count": null
    },
    {
      "cell_type": "markdown",
      "source": "4. Finding the Date in Past from date in past",
      "metadata": {}
    },
    {
      "cell_type": "code",
      "source": "SELECT DATE('2018-12-04','+3 month', '-1 day')",
      "metadata": {
        "trusted": true
      },
      "outputs": [],
      "execution_count": null
    },
    {
      "cell_type": "markdown",
      "source": "5. Finding time now in Greenwich time",
      "metadata": {}
    },
    {
      "cell_type": "code",
      "source": "SELECT TIME('now')",
      "metadata": {
        "trusted": true
      },
      "outputs": [],
      "execution_count": null
    },
    {
      "cell_type": "markdown",
      "source": "6. Finding time difference",
      "metadata": {}
    },
    {
      "cell_type": "code",
      "source": "SELECT '16:30' - '08:30'",
      "metadata": {
        "trusted": true
      },
      "outputs": [],
      "execution_count": null
    },
    {
      "cell_type": "markdown",
      "source": "7. Finding difference in days between 2 columns using JULIANDAY",
      "metadata": {}
    },
    {
      "cell_type": "code",
      "source": "SELECT ORDER_DATE, SHIP_DATE, \n(JULIANDAY(SHIP_DATE) - JULIANDAY(ORDER_DATE)) AS time_to_ship\nFROM CUSTOMER_ORDER",
      "metadata": {
        "trusted": true
      },
      "outputs": [
        {
          "ename": "Error",
          "evalue": "Please load a database to perform operations",
          "traceback": [
            "Error: Please load a database to perform operations"
          ],
          "output_type": "error"
        }
      ],
      "execution_count": 4
    },
    {
      "cell_type": "markdown",
      "source": "**EXCERCISE 1**\n\nWrite a SQL query to find the present date by adding your AGE in years, months, and days to your birthyear \n  Hint: SELECT DATE('YYYY-MM-DD','+AGE year' ,'+no.of month','+no.of day') ",
      "metadata": {}
    },
    {
      "cell_type": "code",
      "source": "",
      "metadata": {
        "trusted": true
      },
      "outputs": [],
      "execution_count": null
    },
    {
      "cell_type": "markdown",
      "source": "Using join to combine tables **JOIN** is used to join to two tables to create a much more descriptive view of your data. In here the parent table supplies data and child table receives data.\n\n- **INNER JOIN**: Selects records from the two tables based on a specified condition. Can use just JOIN instead\n      \n- **OUTER JOIN**:\n    - LEFT JOIN:  Returns all rows from the left table, and the matched rows from the right table. If there are no matches, NULL values are used for the columns from the right table.\n\t\n    - RIGHT JOIN: Returns all rows from the right table, and the matched rows from the left table. If there are no matches, NULL values are used for the columns from the left table.\n\t\n    - FULL OUTER JOIN: Returns all rows when there is a match in either the left or right table. If there is no match, NULL values are used for missing columns. ",
      "metadata": {}
    },
    {
      "cell_type": "markdown",
      "source": "1. Using INNER JOIN operation",
      "metadata": {}
    },
    {
      "cell_type": "code",
      "source": "SELECT ORDER_ID,\nCUSTOMER.CUSTOMER_ID,\nORDER_DATE,\nSHIP_DATE,\nNAME,\nSTREET_ADDRESS,\nCITY,\nSTATE,\nZIP,\nPRODUCT_ID,\nORDER_QTY\n\nFROM CUSTOMER INNER JOIN CUSTOMER_ORDER",
      "metadata": {
        "trusted": true
      },
      "outputs": [],
      "execution_count": null
    },
    {
      "cell_type": "markdown",
      "source": "2. Using the ON condition to the INNER JOIN operation",
      "metadata": {}
    },
    {
      "cell_type": "code",
      "source": "SELECT ORDER_ID,\nCUSTOMER.CUSTOMER_ID,\nORDER_DATE,\nSHIP_DATE,\nNAME,\nSTREET_ADDRESS,\nCITY,\nSTATE,\nZIP,\nPRODUCT_ID,\nORDER_QTY\n\nFROM CUSTOMER INNER JOIN CUSTOMER_ORDER\nON CUSTOMER.CUSTOMER_ID = CUSTOMER_ORDER.CUSTOMER_ID ",
      "metadata": {
        "trusted": true
      },
      "outputs": [],
      "execution_count": null
    },
    {
      "cell_type": "markdown",
      "source": "3. Using LEFT JOIN operation",
      "metadata": {}
    },
    {
      "cell_type": "code",
      "source": "SELECT ORDER_ID,\nCUSTOMER.CUSTOMER_ID,\nORDER_DATE,\nSHIP_DATE,\nNAME,\nSTREET_ADDRESS,\nCITY,\nSTATE,\nZIP,\nPRODUCT_ID,\nORDER_QTY\n\nFROM CUSTOMER LEFT JOIN CUSTOMER_ORDER\nON CUSTOMER.CUSTOMER_ID = CUSTOMER_ORDER.CUSTOMER_ID ",
      "metadata": {
        "trusted": true
      },
      "outputs": [],
      "execution_count": null
    },
    {
      "cell_type": "markdown",
      "source": "4. Using RIGHT JOIN operation",
      "metadata": {}
    },
    {
      "cell_type": "code",
      "source": "SELECT ORDER_ID,\nCUSTOMER.CUSTOMER_ID,\nORDER_DATE,\nSHIP_DATE,\nNAME,\nSTREET_ADDRESS,\nCITY,\nSTATE,\nZIP,\nPRODUCT_ID,\nORDER_QTY\n\nFROM CUSTOMER_ORDER RIGHT JOIN CUSTOMER\nON CUSTOMER_ORDER.CUSTOMER_ID = CUSTOMER.CUSTOMER_ID ",
      "metadata": {
        "trusted": true
      },
      "outputs": [],
      "execution_count": null
    },
    {
      "cell_type": "markdown",
      "source": "5. Using FULL OUTER JOIN operation",
      "metadata": {}
    },
    {
      "cell_type": "code",
      "source": "SELECT ORDER_ID,\nCUSTOMER.CUSTOMER_ID,\nORDER_DATE,\nSHIP_DATE,\nNAME,\nSTREET_ADDRESS,\nCITY,\nSTATE,\nZIP,\nPRODUCT_ID,\nORDER_QTY\n\nFROM CUSTOMER FULL OUTER JOIN CUSTOMER_ORDER\nON CUSTOMER.CUSTOMER_ID = CUSTOMER_ORDER.CUSTOMER_ID ",
      "metadata": {
        "trusted": true
      },
      "outputs": [],
      "execution_count": null
    },
    {
      "cell_type": "markdown",
      "source": "**EXCERCISE 2**\n\nWrite a SQL query to JOIN the 3 tables (CUSTOMER_ORDER,PRODUCT,CUSTOMER) and return columns of customer name, customer state, customer city, customer address, order date, ship date, product name, and the price. \n\n    Hint: You can perform 2 join operations in the same query.\n    \t  Name, state, city, and address come from the CUSTOMER table,\n    \t  order and ship date come from CUSTOMER_ORDER table,\n\t\t  and product description and price come from the PRODUCT table ",
      "metadata": {}
    },
    {
      "cell_type": "code",
      "source": "SELECT CUSTOMER.NAME, \nCUSTOMER.STATE,\nCUSTOMER.CITY,\nCUSTOMER.STREET_ADDRESS,\nORDER_DATE, \nSHIP_DATE, \nPRODUCT.DESCRIPTION as PRODUCT_NAME, \nPRODUCT.PRICE\n\nFROM CUSTOMER_ORDER\nJOIN CUSTOMER ON CUSTOMER.CUSTOMER_ID = CUSTOMER_ORDER.CUSTOMER_ID\nJOIN PRODUCT ON PRODUCT.PRODUCT_ID = CUSTOMER_ORDER.PRODUCT_ID",
      "metadata": {
        "trusted": true
      },
      "outputs": [],
      "execution_count": null
    },
    {
      "cell_type": "markdown",
      "source": "\n\n\n\n\n\n\n\n\n\n\n",
      "metadata": {}
    },
    {
      "cell_type": "code",
      "source": "",
      "metadata": {
        "trusted": true
      },
      "outputs": [],
      "execution_count": null
    },
    {
      "cell_type": "code",
      "source": "",
      "metadata": {
        "trusted": true
      },
      "outputs": [],
      "execution_count": null
    },
    {
      "cell_type": "code",
      "source": "",
      "metadata": {
        "trusted": true
      },
      "outputs": [],
      "execution_count": null
    },
    {
      "cell_type": "code",
      "source": "",
      "metadata": {
        "trusted": true
      },
      "outputs": [],
      "execution_count": null
    },
    {
      "cell_type": "code",
      "source": "",
      "metadata": {
        "trusted": true
      },
      "outputs": [],
      "execution_count": null
    },
    {
      "cell_type": "code",
      "source": "",
      "metadata": {
        "trusted": true
      },
      "outputs": [],
      "execution_count": null
    },
    {
      "cell_type": "code",
      "source": "",
      "metadata": {
        "trusted": true
      },
      "outputs": [],
      "execution_count": null
    },
    {
      "cell_type": "code",
      "source": "",
      "metadata": {
        "trusted": true
      },
      "outputs": [],
      "execution_count": null
    },
    {
      "cell_type": "code",
      "source": "",
      "metadata": {
        "trusted": true
      },
      "outputs": [],
      "execution_count": null
    },
    {
      "cell_type": "code",
      "source": "",
      "metadata": {
        "trusted": true
      },
      "outputs": [],
      "execution_count": null
    }
  ]
}